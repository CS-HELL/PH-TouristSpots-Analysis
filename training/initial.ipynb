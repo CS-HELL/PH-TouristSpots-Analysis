{
 "cells": [
  {
   "cell_type": "code",
   "execution_count": 1,
   "metadata": {},
   "outputs": [
    {
     "data": {
      "text/html": [
       "<div>\n",
       "<style scoped>\n",
       "    .dataframe tbody tr th:only-of-type {\n",
       "        vertical-align: middle;\n",
       "    }\n",
       "\n",
       "    .dataframe tbody tr th {\n",
       "        vertical-align: top;\n",
       "    }\n",
       "\n",
       "    .dataframe thead th {\n",
       "        text-align: right;\n",
       "    }\n",
       "</style>\n",
       "<table border=\"1\" class=\"dataframe\">\n",
       "  <thead>\n",
       "    <tr style=\"text-align: right;\">\n",
       "      <th></th>\n",
       "      <th>tourist_destination</th>\n",
       "      <th>review_post</th>\n",
       "      <th>removed_special_charas_review_post</th>\n",
       "      <th>to_lower_case_review_post</th>\n",
       "      <th>removed_stop_words_review_post</th>\n",
       "      <th>lemmatized_words_review_post</th>\n",
       "    </tr>\n",
       "  </thead>\n",
       "  <tbody>\n",
       "    <tr>\n",
       "      <th>0</th>\n",
       "      <td>Burnham Park</td>\n",
       "      <td>An excellent place for family and friends to v...</td>\n",
       "      <td>An excellent place for family and friends to v...</td>\n",
       "      <td>an excellent place for family and friends to v...</td>\n",
       "      <td>excellent place family friends visit entrance ...</td>\n",
       "      <td>excellent place family friend visit entrance f...</td>\n",
       "    </tr>\n",
       "    <tr>\n",
       "      <th>1</th>\n",
       "      <td>Burnham Park</td>\n",
       "      <td>A lovely place to be on a nice day.We were ple...</td>\n",
       "      <td>A lovely place to be on a nice day We were ple...</td>\n",
       "      <td>a lovely place to be on a nice day we were ple...</td>\n",
       "      <td>lovely place nice day pleasantly surprised ple...</td>\n",
       "      <td>lovely place nice day pleasantly surprised ple...</td>\n",
       "    </tr>\n",
       "    <tr>\n",
       "      <th>2</th>\n",
       "      <td>Burnham Park</td>\n",
       "      <td>Definitely one of the best places to visit in ...</td>\n",
       "      <td>Definitely one of the best places to visit in ...</td>\n",
       "      <td>definitely one of the best places to visit in ...</td>\n",
       "      <td>definitely best places visit baguio burnham pa...</td>\n",
       "      <td>definitely best place visit baguio burnham par...</td>\n",
       "    </tr>\n",
       "    <tr>\n",
       "      <th>3</th>\n",
       "      <td>Burnham Park</td>\n",
       "      <td>I have always been looking at this park ever s...</td>\n",
       "      <td>I have always been looking at this park ever s...</td>\n",
       "      <td>i have always been looking at this park ever s...</td>\n",
       "      <td>looking park chance review park flexed view pa...</td>\n",
       "      <td>looking park chance review park flexed view pa...</td>\n",
       "    </tr>\n",
       "    <tr>\n",
       "      <th>4</th>\n",
       "      <td>Burnham Park</td>\n",
       "      <td>Very beautiful park with boating and cycling a...</td>\n",
       "      <td>Very beautiful park with boating and cycling a...</td>\n",
       "      <td>very beautiful park with boating and cycling a...</td>\n",
       "      <td>beautiful park boating cycling available insid...</td>\n",
       "      <td>beautiful park boating cycling available insid...</td>\n",
       "    </tr>\n",
       "    <tr>\n",
       "      <th>...</th>\n",
       "      <td>...</td>\n",
       "      <td>...</td>\n",
       "      <td>...</td>\n",
       "      <td>...</td>\n",
       "      <td>...</td>\n",
       "      <td>...</td>\n",
       "    </tr>\n",
       "    <tr>\n",
       "      <th>7724</th>\n",
       "      <td>Teacher's Camp</td>\n",
       "      <td>Place is quite old but still works very well. ...</td>\n",
       "      <td>Place is quite old but still works very well  ...</td>\n",
       "      <td>place is quite old but still works very well  ...</td>\n",
       "      <td>place quite old works parking problem good pro...</td>\n",
       "      <td>place quite old work parking problem good prov...</td>\n",
       "    </tr>\n",
       "    <tr>\n",
       "      <th>7725</th>\n",
       "      <td>Teacher's Camp</td>\n",
       "      <td>Not crowded. Lots of open space.</td>\n",
       "      <td>Not crowded  Lots of open space</td>\n",
       "      <td>not crowded  lots of open space</td>\n",
       "      <td>crowded lots open space</td>\n",
       "      <td>crowded lot open space</td>\n",
       "    </tr>\n",
       "    <tr>\n",
       "      <th>7726</th>\n",
       "      <td>Teacher's Camp</td>\n",
       "      <td>Some staff are not approachable when i went to...</td>\n",
       "      <td>Some staff are not approachable when i went to...</td>\n",
       "      <td>some staff are not approachable when i went to...</td>\n",
       "      <td>staff approachable went make reservations nice...</td>\n",
       "      <td>staff approachable went make reservation nice ...</td>\n",
       "    </tr>\n",
       "    <tr>\n",
       "      <th>7727</th>\n",
       "      <td>Teacher's Camp</td>\n",
       "      <td>Very very affordable place. Nice and cozy. Kak...</td>\n",
       "      <td>Very very affordable place  Nice and cozy  Kak...</td>\n",
       "      <td>very very affordable place  nice and cozy  kak...</td>\n",
       "      <td>affordable place nice cozy kakatakot lang ng k...</td>\n",
       "      <td>affordable place nice cozy kakatakot lang ng k...</td>\n",
       "    </tr>\n",
       "    <tr>\n",
       "      <th>7728</th>\n",
       "      <td>Teacher's Camp</td>\n",
       "      <td>If you are equipped for outdoorsy- adventure-s...</td>\n",
       "      <td>If you are equipped for outdoorsy  adventure s...</td>\n",
       "      <td>if you are equipped for outdoorsy  adventure s...</td>\n",
       "      <td>equipped outdoorsy adventure stay place cabin ...</td>\n",
       "      <td>equipped outdoorsy adventure stay place cabin ...</td>\n",
       "    </tr>\n",
       "  </tbody>\n",
       "</table>\n",
       "<p>7729 rows × 6 columns</p>\n",
       "</div>"
      ],
      "text/plain": [
       "     tourist_destination                                        review_post  \\\n",
       "0           Burnham Park  An excellent place for family and friends to v...   \n",
       "1           Burnham Park  A lovely place to be on a nice day.We were ple...   \n",
       "2           Burnham Park  Definitely one of the best places to visit in ...   \n",
       "3           Burnham Park  I have always been looking at this park ever s...   \n",
       "4           Burnham Park  Very beautiful park with boating and cycling a...   \n",
       "...                  ...                                                ...   \n",
       "7724      Teacher's Camp  Place is quite old but still works very well. ...   \n",
       "7725      Teacher's Camp                   Not crowded. Lots of open space.   \n",
       "7726      Teacher's Camp  Some staff are not approachable when i went to...   \n",
       "7727      Teacher's Camp  Very very affordable place. Nice and cozy. Kak...   \n",
       "7728      Teacher's Camp  If you are equipped for outdoorsy- adventure-s...   \n",
       "\n",
       "                     removed_special_charas_review_post  \\\n",
       "0     An excellent place for family and friends to v...   \n",
       "1     A lovely place to be on a nice day We were ple...   \n",
       "2     Definitely one of the best places to visit in ...   \n",
       "3     I have always been looking at this park ever s...   \n",
       "4     Very beautiful park with boating and cycling a...   \n",
       "...                                                 ...   \n",
       "7724  Place is quite old but still works very well  ...   \n",
       "7725                   Not crowded  Lots of open space    \n",
       "7726  Some staff are not approachable when i went to...   \n",
       "7727  Very very affordable place  Nice and cozy  Kak...   \n",
       "7728  If you are equipped for outdoorsy  adventure s...   \n",
       "\n",
       "                              to_lower_case_review_post  \\\n",
       "0     an excellent place for family and friends to v...   \n",
       "1     a lovely place to be on a nice day we were ple...   \n",
       "2     definitely one of the best places to visit in ...   \n",
       "3     i have always been looking at this park ever s...   \n",
       "4     very beautiful park with boating and cycling a...   \n",
       "...                                                 ...   \n",
       "7724  place is quite old but still works very well  ...   \n",
       "7725                   not crowded  lots of open space    \n",
       "7726  some staff are not approachable when i went to...   \n",
       "7727  very very affordable place  nice and cozy  kak...   \n",
       "7728  if you are equipped for outdoorsy  adventure s...   \n",
       "\n",
       "                         removed_stop_words_review_post  \\\n",
       "0     excellent place family friends visit entrance ...   \n",
       "1     lovely place nice day pleasantly surprised ple...   \n",
       "2     definitely best places visit baguio burnham pa...   \n",
       "3     looking park chance review park flexed view pa...   \n",
       "4     beautiful park boating cycling available insid...   \n",
       "...                                                 ...   \n",
       "7724  place quite old works parking problem good pro...   \n",
       "7725                            crowded lots open space   \n",
       "7726  staff approachable went make reservations nice...   \n",
       "7727  affordable place nice cozy kakatakot lang ng k...   \n",
       "7728  equipped outdoorsy adventure stay place cabin ...   \n",
       "\n",
       "                           lemmatized_words_review_post  \n",
       "0     excellent place family friend visit entrance f...  \n",
       "1     lovely place nice day pleasantly surprised ple...  \n",
       "2     definitely best place visit baguio burnham par...  \n",
       "3     looking park chance review park flexed view pa...  \n",
       "4     beautiful park boating cycling available insid...  \n",
       "...                                                 ...  \n",
       "7724  place quite old work parking problem good prov...  \n",
       "7725                             crowded lot open space  \n",
       "7726  staff approachable went make reservation nice ...  \n",
       "7727  affordable place nice cozy kakatakot lang ng k...  \n",
       "7728  equipped outdoorsy adventure stay place cabin ...  \n",
       "\n",
       "[7729 rows x 6 columns]"
      ]
     },
     "execution_count": 1,
     "metadata": {},
     "output_type": "execute_result"
    }
   ],
   "source": [
    "import pandas as pd\n",
    "\n",
    "data = pd.read_csv('../csv/cleaned/cleaned_variations_review_posts.csv')\n",
    "data"
   ]
  },
  {
   "cell_type": "code",
   "execution_count": 59,
   "metadata": {},
   "outputs": [
    {
     "name": "stdout",
     "output_type": "stream",
     "text": [
      "18\n"
     ]
    }
   ],
   "source": [
    "print(len(list(data['tourist_destination'].unique())))"
   ]
  },
  {
   "cell_type": "code",
   "execution_count": 11,
   "metadata": {},
   "outputs": [],
   "source": [
    "from sklearn.feature_extraction.text import TfidfVectorizer\n",
    "\n",
    "tfv = TfidfVectorizer(ngram_range = (1, 1))\n",
    "tfv_text = tfv.fit_transform(data['lemmatized_words_review_post'].values.astype('U'))\n",
    "\n",
    "words = tfv.get_feature_names_out()"
   ]
  },
  {
   "cell_type": "code",
   "execution_count": 9,
   "metadata": {},
   "outputs": [
    {
     "data": {
      "text/plain": [
       "<7729x8677 sparse matrix of type '<class 'numpy.float64'>'\n",
       "\twith 97903 stored elements in Compressed Sparse Row format>"
      ]
     },
     "execution_count": 9,
     "metadata": {},
     "output_type": "execute_result"
    }
   ],
   "source": [
    "tfv_text"
   ]
  },
  {
   "cell_type": "code",
   "execution_count": 37,
   "metadata": {},
   "outputs": [
    {
     "name": "stdout",
     "output_type": "stream",
     "text": [
      "['excellent', 'place', 'family', 'friend', 'visit', 'entrance', 'fee', 'lake', 'ride', 'boat', 'park', 'ground', 'ride', 'small', 'bike', 'place', 'recommend', 'night', 'get', 'quite', 'dark', 'spot', 'morning', 'superb', 'experience', 'definitely', 'want', 'come']\n"
     ]
    }
   ],
   "source": [
    "import gensim\n",
    "\n",
    "def sent_to_words(sentences):\n",
    "    for sentence in sentences:\n",
    "        yield(gensim.utils.simple_preprocess(str(sentence), deacc=True))  # deacc=True removes punctuations\n",
    "\n",
    "words = list(sent_to_words(data['lemmatized_words_review_post'].values.tolist()))\n",
    "print(words[0])"
   ]
  },
  {
   "cell_type": "code",
   "execution_count": 39,
   "metadata": {},
   "outputs": [
    {
     "name": "stdout",
     "output_type": "stream",
     "text": [
      "[(0, 1), (1, 1), (2, 1), (3, 1), (4, 1), (5, 1), (6, 1), (7, 1), (8, 1), (9, 1), (10, 1), (11, 1), (12, 1), (13, 1), (14, 1), (15, 1), (16, 1), (17, 2), (18, 1), (19, 1), (20, 2), (21, 1), (22, 1), (23, 1), (24, 1), (25, 1)]\n"
     ]
    }
   ],
   "source": [
    "import gensim.corpora as corpora\n",
    "\n",
    "# Create Dictionary\n",
    "id2word = corpora.Dictionary(words)\n",
    "# Create Corpus\n",
    "texts = words\n",
    "# Term Document Frequency\n",
    "corpus = [id2word.doc2bow(text) for text in texts]\n",
    "# View\n",
    "print(corpus[0])"
   ]
  },
  {
   "cell_type": "code",
   "execution_count": 40,
   "metadata": {},
   "outputs": [
    {
     "name": "stdout",
     "output_type": "stream",
     "text": [
      "Dictionary(8647 unique tokens: ['bike', 'boat', 'come', 'dark', 'definitely']...)\n"
     ]
    }
   ],
   "source": [
    "dict_ = corpora.Dictionary(words)\n",
    "print(dict_)"
   ]
  },
  {
   "cell_type": "code",
   "execution_count": 45,
   "metadata": {},
   "outputs": [
    {
     "name": "stdout",
     "output_type": "stream",
     "text": [
      "[(0, 1), (1, 1), (2, 1), (3, 1), (4, 1), (5, 1), (6, 1), (7, 1), (8, 1), (9, 1), (10, 1), (11, 1), (12, 1), (13, 1), (14, 1), (15, 1), (16, 1), (17, 2), (18, 1), (19, 1), (20, 2), (21, 1), (22, 1), (23, 1), (24, 1), (25, 1)]\n"
     ]
    }
   ],
   "source": [
    "# Converting list of documents (corpus) into Document Term Matrix using the dictionary \n",
    "doc_term_matrix = [dict_.doc2bow(i) for i in words]\n",
    "print(doc_term_matrix[0])"
   ]
  },
  {
   "cell_type": "code",
   "execution_count": 49,
   "metadata": {},
   "outputs": [],
   "source": [
    "# Build LDA model\n",
    "from gensim.models import CoherenceModel\n",
    "\n",
    "lda_model = gensim.models.LdaMulticore(corpus=corpus, id2word=id2word, num_topics=18, passes=20, \n",
    "random_state=20, chunksize = 10000, eval_every = 10, iterations = 100)\n",
    "\n"
   ]
  },
  {
   "cell_type": "code",
   "execution_count": 52,
   "metadata": {},
   "outputs": [
    {
     "name": "stdout",
     "output_type": "stream",
     "text": [
      "[(0,\n",
      "  '0.102*\"strawberry\" + 0.032*\"farm\" + 0.020*\"picking\" + 0.015*\"ice\" + '\n",
      "  '0.015*\"pick\" + 0.015*\"cream\" + 0.014*\"fresh\" + 0.013*\"lot\" + 0.013*\"taho\" + '\n",
      "  '0.012*\"buy\"'),\n",
      " (1,\n",
      "  '0.019*\"place\" + 0.019*\"snow\" + 0.013*\"really\" + 0.012*\"photo\" + '\n",
      "  '0.011*\"worth\" + 0.009*\"kid\" + 0.008*\"view\" + 0.008*\"good\" + 0.007*\"like\" + '\n",
      "  '0.007*\"just\"'),\n",
      " (2,\n",
      "  '0.062*\"park\" + 0.026*\"baguio\" + 0.023*\"place\" + 0.016*\"city\" + 0.015*\"just\" '\n",
      "  '+ 0.014*\"burnham\" + 0.014*\"boat\" + 0.012*\"ride\" + 0.009*\"bike\" + '\n",
      "  '0.009*\"enjoy\"'),\n",
      " (3,\n",
      "  '0.052*\"buy\" + 0.032*\"good\" + 0.032*\"pasalubong\" + 0.031*\"place\" + '\n",
      "  '0.025*\"market\" + 0.024*\"product\" + 0.022*\"baguio\" + 0.018*\"fresh\" + '\n",
      "  '0.017*\"price\" + 0.017*\"vegetable\"'),\n",
      " (4,\n",
      "  '0.026*\"place\" + 0.016*\"pm\" + 0.015*\"night\" + 0.012*\"come\" + 0.012*\"people\" '\n",
      "  '+ 0.011*\"early\" + 0.009*\"open\" + 0.009*\"picture\" + 0.009*\"experience\" + '\n",
      "  '0.009*\"time\"'),\n",
      " (5,\n",
      "  '0.019*\"christmas\" + 0.017*\"place\" + 0.016*\"great\" + 0.015*\"garden\" + '\n",
      "  '0.014*\"crowded\" + 0.013*\"really\" + 0.012*\"bit\" + 0.010*\"village\" + '\n",
      "  '0.009*\"visit\" + 0.009*\"botanical\"'),\n",
      " (6,\n",
      "  '0.083*\"place\" + 0.031*\"good\" + 0.025*\"great\" + 0.019*\"family\" + 0.017*\"fun\" '\n",
      "  '+ 0.015*\"lot\" + 0.014*\"activity\" + 0.012*\"time\" + 0.011*\"experience\" + '\n",
      "  '0.010*\"enjoy\"'),\n",
      " (7,\n",
      "  '0.043*\"art\" + 0.030*\"place\" + 0.026*\"museum\" + 0.016*\"cafe\" + '\n",
      "  '0.013*\"artist\" + 0.012*\"nice\" + 0.012*\"good\" + 0.012*\"view\" + '\n",
      "  '0.011*\"artwork\" + 0.011*\"great\"'),\n",
      " (8,\n",
      "  '0.131*\"place\" + 0.088*\"nice\" + 0.049*\"visit\" + 0.047*\"baguio\" + '\n",
      "  '0.037*\"view\" + 0.023*\"love\" + 0.021*\"beautiful\" + 0.016*\"city\" + '\n",
      "  '0.015*\"great\" + 0.010*\"attraction\"'),\n",
      " (9,\n",
      "  '0.082*\"ube\" + 0.080*\"jam\" + 0.025*\"best\" + 0.016*\"strawberry\" + 0.013*\"buy\" '\n",
      "  '+ 0.012*\"delicious\" + 0.010*\"brittle\" + 0.010*\"peanut\" + 0.010*\"product\" + '\n",
      "  '0.009*\"like\"'),\n",
      " (10,\n",
      "  '0.032*\"horse\" + 0.018*\"place\" + 0.017*\"lot\" + 0.017*\"picture\" + '\n",
      "  '0.015*\"good\" + 0.014*\"view\" + 0.014*\"riding\" + 0.013*\"people\" + '\n",
      "  '0.012*\"costume\" + 0.011*\"photo\"'),\n",
      " (11,\n",
      "  '0.031*\"tourist\" + 0.024*\"plant\" + 0.018*\"ukay\" + 0.017*\"place\" + '\n",
      "  '0.015*\"spot\" + 0.013*\"view\" + 0.013*\"food\" + 0.012*\"stall\" + 0.011*\"lot\" + '\n",
      "  '0.011*\"baguio\"'),\n",
      " (12,\n",
      "  '0.030*\"just\" + 0.018*\"parking\" + 0.015*\"entrance\" + 0.013*\"fee\" + '\n",
      "  '0.009*\"awesome\" + 0.009*\"peso\" + 0.008*\"student\" + 0.008*\"lot\" + '\n",
      "  '0.008*\"expensive\" + 0.007*\"price\"'),\n",
      " (13,\n",
      "  '0.031*\"place\" + 0.020*\"igorot\" + 0.014*\"culture\" + 0.012*\"great\" + '\n",
      "  '0.010*\"stone\" + 0.008*\"just\" + 0.008*\"good\" + 0.007*\"time\" + '\n",
      "  '0.007*\"kingdom\" + 0.006*\"photo\"'),\n",
      " (14,\n",
      "  '0.049*\"baguio\" + 0.028*\"church\" + 0.022*\"city\" + 0.021*\"place\" + '\n",
      "  '0.021*\"cathedral\" + 0.021*\"mass\" + 0.015*\"road\" + 0.014*\"visit\" + '\n",
      "  '0.012*\"just\" + 0.012*\"parking\"'),\n",
      " (15,\n",
      "  '0.044*\"market\" + 0.031*\"food\" + 0.028*\"price\" + 0.021*\"night\" + '\n",
      "  '0.020*\"item\" + 0.019*\"cheap\" + 0.019*\"good\" + 0.014*\"baguio\" + 0.013*\"buy\" '\n",
      "  '+ 0.013*\"stall\"'),\n",
      " (16,\n",
      "  '0.044*\"entrance\" + 0.039*\"fee\" + 0.027*\"place\" + 0.022*\"building\" + '\n",
      "  '0.021*\"old\" + 0.020*\"hotel\" + 0.017*\"peso\" + 0.010*\"inside\" + 0.010*\"went\" '\n",
      "  '+ 0.009*\"adult\"'),\n",
      " (17,\n",
      "  '0.021*\"place\" + 0.019*\"view\" + 0.014*\"deck\" + 0.011*\"fee\" + 0.011*\"area\" + '\n",
      "  '0.011*\"lot\" + 0.009*\"entrance\" + 0.008*\"park\" + 0.008*\"small\" + '\n",
      "  '0.008*\"visit\"')]\n"
     ]
    }
   ],
   "source": [
    "from pprint import pprint\n",
    "\n",
    "# Print the Keyword in the 3 topics\n",
    "pprint(lda_model.print_topics())\n",
    "doc_lda = lda_model[corpus]"
   ]
  },
  {
   "cell_type": "code",
   "execution_count": 51,
   "metadata": {},
   "outputs": [
    {
     "name": "stdout",
     "output_type": "stream",
     "text": [
      "Coherence Score: 0.5371774856512972\n"
     ]
    }
   ],
   "source": [
    "# Compute Coherence Score\n",
    "coherence_model_lda = CoherenceModel(model=lda_model, texts=words, dictionary=id2word, coherence='c_v')\n",
    "coherence_lda = coherence_model_lda.get_coherence()\n",
    "print('Coherence Score: {}'.format(coherence_lda))"
   ]
  },
  {
   "cell_type": "code",
   "execution_count": null,
   "metadata": {},
   "outputs": [],
   "source": []
  },
  {
   "cell_type": "code",
   "execution_count": null,
   "metadata": {},
   "outputs": [],
   "source": []
  }
 ],
 "metadata": {
  "kernelspec": {
   "display_name": "mykernel",
   "language": "python",
   "name": "mykernel"
  },
  "language_info": {
   "codemirror_mode": {
    "name": "ipython",
    "version": 3
   },
   "file_extension": ".py",
   "mimetype": "text/x-python",
   "name": "python",
   "nbconvert_exporter": "python",
   "pygments_lexer": "ipython3",
   "version": "3.9.12"
  },
  "orig_nbformat": 4,
  "vscode": {
   "interpreter": {
    "hash": "675b13e958f0d0236d13cdfe08a1df3882cae564fa23a2e7e5eb1f2c6c632b02"
   }
  }
 },
 "nbformat": 4,
 "nbformat_minor": 2
}
