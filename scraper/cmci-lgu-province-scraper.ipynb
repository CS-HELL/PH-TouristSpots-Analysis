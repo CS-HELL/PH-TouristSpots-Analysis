{
 "cells": [
  {
   "cell_type": "code",
   "execution_count": 1,
   "metadata": {},
   "outputs": [],
   "source": [
    "from bs4 import BeautifulSoup\n",
    "import requests"
   ]
  },
  {
   "cell_type": "code",
   "execution_count": 59,
   "metadata": {},
   "outputs": [
    {
     "name": "stdout",
     "output_type": "stream",
     "text": [
      "['Quezon', 'Manila', 'Pasay', 'Davao', 'Muntinlupa', 'Makati', 'Iloilo', 'Cagayan De Oro', 'Bacolod', 'Valenzuela', 'Pasig', 'General Santos', 'Caloocan', 'Mandaue', 'Mandaluyong', 'Taguig', 'Baguio', 'Puerto Princesa', 'Paranaque', 'Malabon', 'Zamboanga', 'Marikina', 'Tacloban', 'Cebu', 'Angeles', 'Navotas', 'San Juan', 'Lucena', 'Butuan', 'Olongapo', 'Las Pinas', 'Lapu Lapu', 'Iligan']\n"
     ]
    }
   ],
   "source": [
    "URL_LINK = \"https://cmci.dti.gov.ph/rankings-data.php?unit=Highly%20Urbanized%20Cities\"\n",
    "content = requests.get(URL_LINK)\n",
    "\n",
    "soup = BeautifulSoup(content.text, 'html.parser')\n",
    "\n",
    "# Get Table\n",
    "content_table = soup.find('table', {\"id\" : \"table_data1\"})\n",
    "# Get Row\n",
    "content_row = content_table.find_all('a', {\"title\" : \"LGU Profile\"})\n",
    "\n",
    "import re\n",
    "# Remove both parenthesis and the string inside the parenthesis and also remove succeeding spaces.\n",
    "top_lgus = [re.sub(\"[\\(\\[].*?[\\)\\]]\", \"\", re.sub(\"([\\(\\[]).*?([\\)\\]])\", \"\", lgu.get_text())).strip() for lgu in content_row]\n",
    "print(top_lgus)"
   ]
  },
  {
   "cell_type": "code",
   "execution_count": 61,
   "metadata": {},
   "outputs": [],
   "source": [
    "# Dump to json\n",
    "import json\n",
    "\n",
    "# Folder link\n",
    "JSON_DUMP_FOLDER = \"../json/\"\n",
    "JSON_NAME = \"top_lgus.json\"\n",
    "\n",
    "with open(JSON_DUMP_FOLDER + JSON_NAME, 'w') as f:\n",
    "    json.dump(top_lgus, f)"
   ]
  }
 ],
 "metadata": {
  "kernelspec": {
   "display_name": "mykernel",
   "language": "python",
   "name": "mykernel"
  },
  "language_info": {
   "codemirror_mode": {
    "name": "ipython",
    "version": 3
   },
   "file_extension": ".py",
   "mimetype": "text/x-python",
   "name": "python",
   "nbconvert_exporter": "python",
   "pygments_lexer": "ipython3",
   "version": "3.9.12"
  },
  "orig_nbformat": 4,
  "vscode": {
   "interpreter": {
    "hash": "675b13e958f0d0236d13cdfe08a1df3882cae564fa23a2e7e5eb1f2c6c632b02"
   }
  }
 },
 "nbformat": 4,
 "nbformat_minor": 2
}
