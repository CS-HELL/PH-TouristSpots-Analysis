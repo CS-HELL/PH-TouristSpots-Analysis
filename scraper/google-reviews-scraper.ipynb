{
 "cells": [
  {
   "cell_type": "code",
   "execution_count": 100,
   "metadata": {},
   "outputs": [
    {
     "data": {
      "text/html": [
       "<div>\n",
       "<style scoped>\n",
       "    .dataframe tbody tr th:only-of-type {\n",
       "        vertical-align: middle;\n",
       "    }\n",
       "\n",
       "    .dataframe tbody tr th {\n",
       "        vertical-align: top;\n",
       "    }\n",
       "\n",
       "    .dataframe thead th {\n",
       "        text-align: right;\n",
       "    }\n",
       "</style>\n",
       "<table border=\"1\" class=\"dataframe\">\n",
       "  <thead>\n",
       "    <tr style=\"text-align: right;\">\n",
       "      <th></th>\n",
       "      <th>place</th>\n",
       "      <th>description</th>\n",
       "      <th>total_reviews</th>\n",
       "    </tr>\n",
       "  </thead>\n",
       "  <tbody>\n",
       "    <tr>\n",
       "      <th>0</th>\n",
       "      <td>Burnham Park</td>\n",
       "      <td>Urban parkland with a skating rink</td>\n",
       "      <td>23178</td>\n",
       "    </tr>\n",
       "    <tr>\n",
       "      <th>1</th>\n",
       "      <td>Mines View Observation Deck</td>\n",
       "      <td>Popular destination for scenic views</td>\n",
       "      <td>10493</td>\n",
       "    </tr>\n",
       "    <tr>\n",
       "      <th>2</th>\n",
       "      <td>Baguio City Market</td>\n",
       "      <td>Market for food &amp; housewares</td>\n",
       "      <td>8382</td>\n",
       "    </tr>\n",
       "    <tr>\n",
       "      <th>3</th>\n",
       "      <td>Baguio Night Market</td>\n",
       "      <td>Extensive, late-night street market</td>\n",
       "      <td>6307</td>\n",
       "    </tr>\n",
       "    <tr>\n",
       "      <th>4</th>\n",
       "      <td>Wright Park</td>\n",
       "      <td>Leafy spot for walks &amp; horseback riding</td>\n",
       "      <td>5743</td>\n",
       "    </tr>\n",
       "    <tr>\n",
       "      <th>...</th>\n",
       "      <td>...</td>\n",
       "      <td>...</td>\n",
       "      <td>...</td>\n",
       "    </tr>\n",
       "    <tr>\n",
       "      <th>77</th>\n",
       "      <td>19th Tee</td>\n",
       "      <td>NaN</td>\n",
       "      <td>2</td>\n",
       "    </tr>\n",
       "    <tr>\n",
       "      <th>78</th>\n",
       "      <td>Asin Road Woodcarver's Village</td>\n",
       "      <td>NaN</td>\n",
       "      <td>2</td>\n",
       "    </tr>\n",
       "    <tr>\n",
       "      <th>79</th>\n",
       "      <td>Maryhurst Chapel - Maryhurst Road</td>\n",
       "      <td>NaN</td>\n",
       "      <td>1</td>\n",
       "    </tr>\n",
       "    <tr>\n",
       "      <th>80</th>\n",
       "      <td>Pool of Pines</td>\n",
       "      <td>NaN</td>\n",
       "      <td>1</td>\n",
       "    </tr>\n",
       "    <tr>\n",
       "      <th>81</th>\n",
       "      <td>Sunset Terraces</td>\n",
       "      <td>NaN</td>\n",
       "      <td>1</td>\n",
       "    </tr>\n",
       "  </tbody>\n",
       "</table>\n",
       "<p>82 rows × 3 columns</p>\n",
       "</div>"
      ],
      "text/plain": [
       "                                place  \\\n",
       "0                        Burnham Park   \n",
       "1         Mines View Observation Deck   \n",
       "2                  Baguio City Market   \n",
       "3                 Baguio Night Market   \n",
       "4                         Wright Park   \n",
       "..                                ...   \n",
       "77                           19th Tee   \n",
       "78     Asin Road Woodcarver's Village   \n",
       "79  Maryhurst Chapel - Maryhurst Road   \n",
       "80                      Pool of Pines   \n",
       "81                    Sunset Terraces   \n",
       "\n",
       "                                description  total_reviews  \n",
       "0        Urban parkland with a skating rink          23178  \n",
       "1      Popular destination for scenic views          10493  \n",
       "2              Market for food & housewares           8382  \n",
       "3       Extensive, late-night street market           6307  \n",
       "4   Leafy spot for walks & horseback riding           5743  \n",
       "..                                      ...            ...  \n",
       "77                                      NaN              2  \n",
       "78                                      NaN              2  \n",
       "79                                      NaN              1  \n",
       "80                                      NaN              1  \n",
       "81                                      NaN              1  \n",
       "\n",
       "[82 rows x 3 columns]"
      ]
     },
     "execution_count": 100,
     "metadata": {},
     "output_type": "execute_result"
    }
   ],
   "source": [
    "import pandas as pd \n",
    "\n",
    "tourist_destinations_baguio_df = pd.read_csv(r'../csv/tourist_destinations_baguio.csv')\n",
    "tourist_destinations_baguio_df.sort_values(['total_reviews'], ascending=[0]).reset_index(drop=True)"
   ]
  },
  {
   "cell_type": "code",
   "execution_count": 101,
   "metadata": {},
   "outputs": [
    {
     "data": {
      "text/plain": [
       "0                                          Burnham Park\n",
       "1                           Mines View Observation Deck\n",
       "2     Our Lady of the Atonement Cathedral (Baguio Ca...\n",
       "3                                           Wright Park\n",
       "4                                      Tam-awan Village\n",
       "5                               Baguio Botanical Garden\n",
       "6                                 Good Shepherd Convent\n",
       "7                                    Baguio City Market\n",
       "8                  Heritage Hill and Nature Park Garden\n",
       "9                                         BenCab Museum\n",
       "10                                          Bell Church\n",
       "11                                  Baguio Night Market\n",
       "12                           Our Lady of Lourdes Grotto\n",
       "13                     Pink Sisters' Convent and Chapel\n",
       "14                                        Baguio Museum\n",
       "15                                          Lion’s Head\n",
       "16                            Tree Top Adventure Baguio\n",
       "17                                 Igorot Stone Kingdom\n",
       "18      Strawberry Farm - Home of Giant Strawberry Cake\n",
       "19                           The Manor at Camp John Hay\n",
       "Name: place, dtype: object"
      ]
     },
     "execution_count": 101,
     "metadata": {},
     "output_type": "execute_result"
    }
   ],
   "source": [
    "place_list = tourist_destinations_baguio_df[\"place\"][:20]\n",
    "place_list"
   ]
  },
  {
   "cell_type": "code",
   "execution_count": null,
   "metadata": {},
   "outputs": [],
   "source": [
    "times_to_scroll = tourist_destinations_baguio_df.query(f'place == {place}')['total_reviews'].iloc[0] + 1\n",
    "print(times_to_scroll)"
   ]
  },
  {
   "cell_type": "code",
   "execution_count": 108,
   "metadata": {},
   "outputs": [
    {
     "name": "stdout",
     "output_type": "stream",
     "text": [
      "23179\n"
     ]
    }
   ],
   "source": [
    "from bs4 import BeautifulSoup\n",
    "from selenium import webdriver\n",
    "from selenium.webdriver.chrome.service import Service\n",
    "from selenium.webdriver.common.by import By\n",
    "from selenium.webdriver.support.ui import WebDriverWait\n",
    "from selenium.webdriver.support import expected_conditions as EC\n",
    "import time\n",
    "\n",
    "s = Service(\"../tools/chromedriver.exe\")\n",
    "browser = webdriver.Chrome(service = s)\n",
    "\n",
    "html_source_list = []\n",
    "\n",
    "# for place in place_list:\n",
    "for place in [place_list[0]]:\n",
    "    URL_LINK = f\"https://www.google.com/search?q={place}%2C+Baguio+City&hl=en-PH&gl=ph&sxsrf=ALiCzsa6LBioHP276Sw-0F31TiI4SCrd7w%3A1670351806771&ei=vouPY5vXLob3wAOl1ZfgCA&ved=0ahUKEwibrt6w0eX7AhWGO3AKHaXqBYwQ4dUDCA8&uact=5&oq=Heritage+Hill+and+Nature+Park+Garden%2C+Baguio+City&gs_lcp=Cgxnd3Mtd2l6LXNlcnAQAzICCCY6CggAEEcQ1gQQsAM6BAgjECc6CgguEK8BEMcBEEM6BggAEBYQHjoFCAAQhgM6BQghEKABSgQIQRgASgQIRhgAUJ4FWK8iYOckaARwAXgAgAHUBIgB7hSSAQswLjguMi4wLjEuMZgBAKABAcgBCMABAQ&sclient=gws-wiz-serp\"\n",
    "    browser.get(URL_LINK)\n",
    "    time.sleep(2)\n",
    "\n",
    "    wait = WebDriverWait(browser, 10)\n",
    "\n",
    "    wait.until(EC.element_to_be_clickable((By.XPATH, '/html/body/div[7]/div/div[11]/div[2]/div/div/div[2]/div/div[1]/div[2]/div[2]/div/div/span[3]/span/a/span')))  \n",
    "    browser.find_element(By.XPATH, '/html/body/div[7]/div/div[11]/div[2]/div/div/div[2]/div/div[1]/div[2]/div[2]/div/div/span[3]/span/a/span').click()\n",
    "    time.sleep(2)\n",
    "\n",
    "    times_to_scroll = tourist_destinations_baguio_df.query(f'place == \"{place}\"')['total_reviews'].iloc[0] + 1\n",
    "    print(times_to_scroll)\n",
    "\n",
    "    # Change to times_to_scroll\n",
    "    for x in range(10):\n",
    "        scrollable_div = browser.find_element(By.CLASS_NAME, 'review-dialog-list')\n",
    "        browser.execute_script('arguments[0].scrollTop = arguments[0].scrollHeight', scrollable_div)\n",
    "        time.sleep(2)\n",
    "\n",
    "\n",
    "    SOURCE_HTML = browser.page_source\n",
    "    soup = BeautifulSoup(SOURCE_HTML, \"html.parser\")\n",
    "    review_post = soup.find_all('span', {\"class\" : \"review-full-text\"})\n",
    "    html_source_list.append(review_post)\n",
    "    \n",
    "\n",
    "browser.quit()"
   ]
  },
  {
   "cell_type": "code",
   "execution_count": 109,
   "metadata": {},
   "outputs": [
    {
     "name": "stdout",
     "output_type": "stream",
     "text": [
      "[[An excellent place for family and friends to visit. It has no entrance fees, and has a lake where you can ride a boat (P 150) and park grounds where you can ride small bikes (P 100). Not a place I would recommend at night as it gets quite dark here at some spots. But the morning is a superb experience you will definitely want to come back to., A lovely place to be on a nice day.We were pleasantly surprised and very pleased at how long a period of time that we had aboard our boat on the lake.You may hire bicycles(some carrying as many as three people)on the cycle track for a modest fee,and once again the period of time allowed is most generous indeed ~ so it is good value for money.Spend time here is amazing. I love the place., Definitely one of the best places to visit in Baguio. 💖 Burnham Park is a crowded tourist destination, but for good reason. The assortment of flowers that you will see in the park is truly breathtaking.Aside from sightseeing, you can also do boating, have your picture taken by a photographers' cooperative in tribal clothes, rent cars or bikes, and play at the amusement park., Bring something to protect you from the heat of the sun when going up in this place. family vehicles are not  allowed to go up to this point because the area where you will see a good view of the tower and the west Philippines sea is not wide enough  for vehicles. tricycle fare per trip is 50 pesos as of 2022 with a maximum of 3persons per trip., I/we enjoyed Burnham Park. We visited when it was busy and mellow, day and night. Felt safe. Numerous low level things to do for all ages. Fun to see nostalgic things to do (bumper cars, bike/pedal rentals) all sorts of food vendors, even massage people (but not sure where that happens).We had a picnic and someone offered (and we bought) blue tarp to sit on.Recommend and would return but wouldn’t call it a must see.Parking is hard to come by so walk or get dropped off is key., Burnham Park is considered to be one of the most famous parks in the country. It is located on Jose Abad Santos Drive, Baguio City 2600 Benguet Philippines. A park is a popular place for both locals and tourists. This place is often full-packed with people regardless if it is rainy or not. The most well-known activity in the park is “biking”. There are lots of bicycles for rent at a very decent price. It is an excellent activity for youngsters and adults., The place was also nice to see in the morning especially trying activities a family can enjoy like biking, riding a boat and having picnics. There are food area and lots of rest rooms. Parking is just hard during peak season. (Forgot to take pics since we just visit first in the evening for the night market 😊). The night market is beside the park., A great place for a trip with your family, friends and your partner!-There are available paddle boat operators that you can rent from 200-350 pesos.-Bikes can be rented from 75 pesos up to 150 pesos that is already good for 30 minutes.Location is strategic. There are several walking distance establishments where you can eat and jeepney vehicles are just nearby., Burnham Park is a good place to stroll both night and day. There are paid parking lots around the area you have to pick the area where you will be staying for a long time to prevent longer walks.We took the boating at night and it is more beautiful and silent than in the morning. We paid ₱150 for the boat plus additional ₱50 because we were tired to row the boat.We wanted to try roller skates but it was already closed at 7PM. The bump car was the other ride we were able to try it was ₱100/5 mins/head and with a weight limit., Things to do around Burnham Park are:- Have a boat ride in the lake- Rent a bike to ride around- Walk around the park- Eat local food- Learn a little about history of the place.NOTE: There are locals who would suddenly stand near you and sing a song and ask for donation. It is up to you if you would give them. There are also locals who will offer you a massage for Php100.00.At weekends, it can be crowded. If you want a much quiet time, go on weekdays.There is a night market that pops up beside the park. It's a whole street of people selling products such as souvenirs, shirts, jackets, and a separate area for food., Always iconic 🌻 Haven't been here for so long despite my distance, but it's due to some busy schedules and some usual distractions. Indeed, if you wanna ponder over things and genuinely cry while walking down the park like I did this early morning. Early as 4, 5 or 6AM is perfect if u wish for a wider space & less people. Meeting joggers too on the way pictures a healthy environment while the cold breezy wind dances.Tired now, benches are free, yet cold ha-ha!Burnham Park is 💞, This place is iconic and sits at the heart of the city. No Baguio trip is complete without this stop as a staple.Upside: there are lots of activities you can do in this park, including boating, biking, and skating. Early in the morning, there are also different workout groups you can join (Zumba, Tai Chi, etc) At night, Harrison Street is closed for the pop-up night market. There are nice policemen helping out with directions and making sure there are no peddlers. You can have a picnic here. Every street that surrounds the park has enough going--food places, souvenir shops, ukay stores, gas station. Name it. Easy to get taxis too.Downside: when in Baguio always keep your purse in front of you. Their streets are known for petty thefts. This last trip during the pandemic we felt safer and more relaxed. Restrooms are old, they aren't that clean. You have to pay up and some cubicles are squat toilets. Just do your numbers back where you're staying.Do we recommend this place? Yes.Are we going back? Yes., Since we came there late at night, obviously I can no longer make a detailed review of the place. Anyways, from where we sat down, I still can see the beauty of the lake. There are still a lot of people going to and from my bench. Expectedly, the place is cold. Too bad I don't have anyone with me to cuddle. Hahahaha. Will be visiting the place again soonest I will be back in Baguio., Its not complete for a tourist/visitor not to see this restored park b4 he leaves the city. Walk to see and take selfie with the (dont pick) flowers, grounds, boats, trees and fountains around. The lake has few fishes and different boats designed for you to have fun rowing or just ride. Also Join free zumba or just run and walk around best every (early) dewy mornings (sometimes to catch up fogs) . Located at the center of the city and its accessible to all transportation areas some with mini buses that offers free sakay going to the mall, market, cathedral.... Accessible to food houses, recreational centers, grocery, coffffeeee shops, churches, night market, pasalubong stores, close to meetings, banks, schools and other universities, other govt entities and tge like. Youll find almost everything nearby malay mu pati jowa ma-nearby Burnham Park. So i suggest u walk. Rampa your beauty and the pogi looks😁 and its good for your health walking. Enjoy. See more and have fun staying in Baguio City., Wallow in the cold breeze and peace here in Burnham Park Reservation.Just before leaving Baguio, my friends and I settled to hit this park for photo ops of course.We rambled the area despite the fact that in a few hours we'd leave for Manila.Noticing the kayaks afloat the lagoon, we agreed to ride one. Each has an oarsman (unlike our experience in Villa Escudero that we ought to learn how to row a canoe because no staff will go with you) yet some of us take turns in rowing our vessel. And we enjoyed it!I have forgotten if the ride is 30 minutes or more. What I vividly recall is our conversation the whole time. We amused ourselves talking about the presentiables and teasing our oarsman of it though he never really revealed who was he in favor of. The lad who rode with us is a college students according to him. In my guess, they are working to support their education. I don't know but the staff are of the same ages so I thought that they work there in order to study. They wore blue t-shirt for their uniform. Hey, you can look for them should you decide to ride a kayak and you could help send them to school.It's not a only a park where you can ruminate about life in general but it's also a park where activities can be done. Come and have a peek of it., Burnham park was clean and an amazing place to be with. It has a lot of story that you'll going to realize upon visiting.Ps. Few photos due not really a fond of phone upon visiting and busy enjoying the moment., Went here mid March, on the week of Panagbenga Festival. The park was decently maintained, not a lot of litter as expected, and there were park guards at the Grandstand, especially during the event.We also went in the evening to try out their boat rides (we paid around PHP200 for 30mins, and you can rent out a boater as well if you can't row your own boat for Php50 additional fee). Definitely a decent place with benches if you want to relax and have a picnic for free. They also have bikes for rent if you want to roam around the park.Accessibility to the park maybe a little bit hard as they have designated gates for vehicle entry. If you're travelling via taxi, the drivers can only drop you off at certain gates., Lots of things to enjoy in Burnham Park!First, you can go boating and you’ll have plenty of choices. You can ride the basic boats (manual rowing) for 30min at 150-200php or add 50php if you’re not fit for rowing and someone will do it for you. 😆 There are also boats that move by pedaling at 250php for 30min.Cycling is also fun. You can choose a bicycle, tricyle or a 4-wheel kart which cost 50-75php for 30 min. Just beware of the reckless drivers (mostly kids)!You can also have photoshoots from traditional photographers with the Igorot attire in this park. They take decent pictures and even guide you to pose for better experience. They charge 75php per 5R picture and will also send you soft copies via facebook.Fooodies! Even with the cold weather, you can never resist the strawberry and avocado ice cream. It’s at least 35php per cone (cheaper than what we bought in La Trinidad). There are also strawberry and ube taho, cotton candies, green mangoes, pomelo, guava and more which you can munch while walking or sitting.Lastly, you can just walk around and enjoy the view and weather in this park. There are lots of benches around the park to eat and rest. I even saw some families bringing food and having a dry picnic there., spending tym with my self 😂🤣 .thank you to my partner (3 in one monopad) you saved my  DAY 🤣😂😅.the pLace are very relaxing even tho there's a lot of people visiting here, but not to crowded,  and sad to say I only have few hours to spend time hereSUNDAY05-08-22, Indeed a relaxing park to drive away negativities in life!Your trip to Baguio is never complete without coming to Burnham Park.The wide and entertaining park offers various things to do like having a small picnic, boat ride, bicycle riding, relaxing ground, jogging, walking and others provided that you comply with the rules and regulations of the city, you will enjoy everything!Other photos I indicated were taken at the Melvin Jones grand stand just beside the park., Bawal sa maselan.Strictly starts at 9:00 PM.Some stalls could accomodate advance orders. Be prepared to stand as you eat and dine walang maupuan.Wide variety of food choices wala lang bibingka (visited sept. 2022). I found tupig 10 pesos each though haven't tried it (will come back for it.) If you're on a budget this is a must visit.Some photos indicate food prices. Hope this helps., Went there for Nostalgia. Not the park I remember from when I was younger but it was still fun.Still relatively clean and the facilities seem to still be adequately maintained.Water quality on the artificial lake could be better though., The usual first place to visit in Baguio, we enjoyed riding a swan boat in burnham lake and riding a bike. We always went here before lunch since Goodtaste one of the famous resto in Baguio is located near in this tourist spot. We bought ube taho which is 50 php you don't have any option for an amount you want to pay, the mango which is 40 php and the spicy crackers for 35 php. All in all we enjoyed this place., The Go To Place in Baguio!. It's a recreational park wherein you could go if you want to relax or if you wanted to feel energized you could take a bycicle for rent near. Theres also zumba sessions being held there. Theres a lot of people even when its morning. One thing weve enjoyed is the Boat Ride, kinda scary but Great! ☺️ Tips: Theres no bidae for the restrooms. If you want to poo you may use Tabo., Hopefully, the LGU will make an effort to make the place as beautiful as before or more during holidays.Christmas lights, decorations, and the Christmas tree are being liked by people in the park, thus it may have been a good project for the city.Locals and tourists love to go here to spend time with families and hang out with friends especially during weekends and holidays, so attracting designs will entice them to go often to the place which will eventually help the local businesses in the area as well.At night time of holidays when there are many people in the park, if there are designs, it would be a great opportunity to attract more tourists to go to the city.Additionally, regarding the waste, large garbage bins or regular changing of trash bags will also help in the problem of 'full bins' as some address.The place has been one of my favorite places to go since I was a kid and I wanted it to be the same with the locals and tourists.Also, we observed that the fountains are not being played already and it kind of disappoint me and others.This coming holiday, I hope that the fountains will be on., The most iconic park of Baguio offers all kinds of activities. In the morning, you can jog and exercise around the perimeter and after that you can join the zumba dancing. You can also have a boat riding on the burnham lake or enjoy the bike for rent along the road. If you’re tired, you can sit on the benches scattered around the park. At the rose garden, there is also a variety of food carts if you’re craving for some foods., You haven't gone to Baguio if you haven't gone to the Burnham Park.Early morning are sumba of all sorts. A ballroom sumba, fitness sumba with all the best strong stretches and flexing, they have dance sumba. Sumba comes in all different style from as early as 6 am to 8 am. Sumba sessions are all over the Park.Want something slow and reflective try taichi by the rose garden. Want something physical more than sumba try boxing and arnis by the lake house.Try biking in different forms They have bike with trainer wheels, bike with side cars, bike which both passenger pedals and the like...There are many hundred ways to enjoy Burnham park. One cannot exhaust the ways., Your visit in Baguio City is incomplete if you haven’t tried the very famous Swan Boat where you can roam around within the Burnham Park. It cost Php 250 to ride a boat for 5 pax. Waiting time is insanely exhausting.The weather condition is fair. The park itself is very crowded with a lot of people. Social Distancing is not maintained., The place always evolve whenever I would visit. I went here during the pandemic, so naturally there are fewer people when I visited. Which kinda mde my visit more pleasant for me. Some areas are under renovation, which is good, that shows they are trying to take care of the place. I love the part that they revived the skating rink!  There are more bike type as well., Beautiful Park, lots of activities for families. Picnic areas as well. Central to all of downtowns amenities and shopping. Jeepny station adjacent to the park so no need to have or use a vehicle if you wish to walk and not worry about finding a spot downtown to park. One of, if not the best park in thee country. Highly recommended to take time to visit., Everything here should have been perfect and I would have given this place a perfect score because of its vast green spaces and cool air, aside from the various sights. However, with regards to cleanliness, I cannot just overlook the plastic bottles, food wrappeds etc. Furthermore the rides are too expensive considering the pond water is so dirty and smelly. Furthermore, this place is not safe at night. One time, when we chanced upon this place at night, there are a lot of suspicious looking people tailing you and there are some offering sexual jobs. Plus, there are no police or security people at night., The place is easily accessible by jeepneys. You can go anywhere and be back here easily because of availabilities of the jeeps in the area.Booke your hotel or any accommodation in advance when going to baguio. Because most of the hotels and places here are fully booked during weekends.Lots of people. Bring lots of patience when going here. And if you like to sit on the grass because most of the sits are taken bring some blankets or anything to place on top of the grass.Bring umbrella when you are in a trip here. Sometimes its sunny., Everything here should have been perfect and I would have given this place a perfect score because of its vast green spaces and cool air, aside from the various sights.One of baguio's best tourist destination. here you can rent a bike, grab a bite of their street mangoes, singkamas, and karamay's or their famous strawberry taho. you can also ride a boat and paddle thru burnham lake at 200 php per person, if you get tired you can rest and sit and just admire the beauty of the park., Popular with locals and tourists alike for biking, boating, walking or just to relax outdoors. Also a zumba location pre-pandemic. Now that the city's covid alert level has gone down, just like the norm before, many bring blankets or mat to enjoy the park picnic style, or bring badminton rackets for a leisure game amongst family and friends. Recent addition are Dibshi jen Dibsho (an Ibaloi word which means a free book) seats that is Baguio City's initiative to promote reading.More on IG @mangan.pasyar.stories, The park is reasonably beautiful with multiple entertainment offerings such as boat ride-paddle on your own, single to multiple passenger bike rides.. walking around is as always weather permiting nevertheless the park has its own beauty with many picture perfect spots throughout. Just don't get in the water, not sure if the pond takes in rain water but it's high on turbidity., Interesting park, with lots of activities.Clean placeStaff are niceWill definitely go back, Good place to hangout especially for families. Relaxing place but can get busy especially during weekends and summer time. Public wash room is easily accessible.Lots of activities to choose from - go on a boat or bike ride, eat out at the restaurants, street food carts, or paluto kiosks, go for a walk or jog, or simply sit idle and go people-watching., They have good prices for the activities you pay for the experience in biking and boating where it is cost-friendly for tourists but also the students, they are keeping it clean as I see every morning where you really can enjoy having exercises. Although they are fixing it they are trying to keep the Burnham park enjoyable and the spot is good because there are nearby food restaurants where you can eat after those activities. I have been able to enjoy it every after school during my junior high school years. It is very recommendable for tourist every school days where you can really enjoy your time in there, This pandemic really hit Baguio city hard (most tourist place) but the good thing few or limited people so you can enjoy the view. Avoid Pollution like noise. Very calming. You can walk, jog, cycling around. And the roses at the park is really beautiful and its free! I hope they maintain the cleanliness and ordeliness of Burnham Park.]]\n"
     ]
    }
   ],
   "source": [
    "test = BeautifulSoup(str(html_source_list))\n",
    "print(test.get_text())"
   ]
  },
  {
   "cell_type": "code",
   "execution_count": null,
   "metadata": {},
   "outputs": [],
   "source": []
  }
 ],
 "metadata": {
  "kernelspec": {
   "display_name": "mykernel",
   "language": "python",
   "name": "mykernel"
  },
  "language_info": {
   "codemirror_mode": {
    "name": "ipython",
    "version": 3
   },
   "file_extension": ".py",
   "mimetype": "text/x-python",
   "name": "python",
   "nbconvert_exporter": "python",
   "pygments_lexer": "ipython3",
   "version": "3.9.12"
  },
  "orig_nbformat": 4,
  "vscode": {
   "interpreter": {
    "hash": "675b13e958f0d0236d13cdfe08a1df3882cae564fa23a2e7e5eb1f2c6c632b02"
   }
  }
 },
 "nbformat": 4,
 "nbformat_minor": 2
}
