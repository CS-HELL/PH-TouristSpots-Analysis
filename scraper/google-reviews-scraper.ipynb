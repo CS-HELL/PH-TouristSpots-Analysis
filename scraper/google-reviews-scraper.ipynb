{
 "cells": [
  {
   "cell_type": "code",
   "execution_count": 6,
   "metadata": {},
   "outputs": [
    {
     "data": {
      "text/html": [
       "<div>\n",
       "<style scoped>\n",
       "    .dataframe tbody tr th:only-of-type {\n",
       "        vertical-align: middle;\n",
       "    }\n",
       "\n",
       "    .dataframe tbody tr th {\n",
       "        vertical-align: top;\n",
       "    }\n",
       "\n",
       "    .dataframe thead th {\n",
       "        text-align: right;\n",
       "    }\n",
       "</style>\n",
       "<table border=\"1\" class=\"dataframe\">\n",
       "  <thead>\n",
       "    <tr style=\"text-align: right;\">\n",
       "      <th></th>\n",
       "      <th>place</th>\n",
       "      <th>description</th>\n",
       "      <th>total_reviews</th>\n",
       "    </tr>\n",
       "  </thead>\n",
       "  <tbody>\n",
       "    <tr>\n",
       "      <th>0</th>\n",
       "      <td>Burnham Park</td>\n",
       "      <td>Urban parkland with a skating rink</td>\n",
       "      <td>23175</td>\n",
       "    </tr>\n",
       "    <tr>\n",
       "      <th>1</th>\n",
       "      <td>Mines View Observation Deck</td>\n",
       "      <td>Popular destination for scenic views</td>\n",
       "      <td>10492</td>\n",
       "    </tr>\n",
       "    <tr>\n",
       "      <th>2</th>\n",
       "      <td>Baguio City Market</td>\n",
       "      <td>Market for food &amp; housewares</td>\n",
       "      <td>8379</td>\n",
       "    </tr>\n",
       "    <tr>\n",
       "      <th>3</th>\n",
       "      <td>Baguio Night Market</td>\n",
       "      <td>Extensive, late-night street market</td>\n",
       "      <td>6304</td>\n",
       "    </tr>\n",
       "    <tr>\n",
       "      <th>4</th>\n",
       "      <td>Wright Park</td>\n",
       "      <td>Leafy spot for walks &amp; horseback riding</td>\n",
       "      <td>5742</td>\n",
       "    </tr>\n",
       "    <tr>\n",
       "      <th>...</th>\n",
       "      <td>...</td>\n",
       "      <td>...</td>\n",
       "      <td>...</td>\n",
       "    </tr>\n",
       "    <tr>\n",
       "      <th>78</th>\n",
       "      <td>Asin Road Woodcarver's Village</td>\n",
       "      <td>NaN</td>\n",
       "      <td>2</td>\n",
       "    </tr>\n",
       "    <tr>\n",
       "      <th>79</th>\n",
       "      <td>19th Tee</td>\n",
       "      <td>NaN</td>\n",
       "      <td>2</td>\n",
       "    </tr>\n",
       "    <tr>\n",
       "      <th>80</th>\n",
       "      <td>Sunset Terraces</td>\n",
       "      <td>NaN</td>\n",
       "      <td>1</td>\n",
       "    </tr>\n",
       "    <tr>\n",
       "      <th>81</th>\n",
       "      <td>Pool of Pines</td>\n",
       "      <td>NaN</td>\n",
       "      <td>1</td>\n",
       "    </tr>\n",
       "    <tr>\n",
       "      <th>82</th>\n",
       "      <td>Maryhurst Chapel - Maryhurst Road</td>\n",
       "      <td>NaN</td>\n",
       "      <td>1</td>\n",
       "    </tr>\n",
       "  </tbody>\n",
       "</table>\n",
       "<p>83 rows × 3 columns</p>\n",
       "</div>"
      ],
      "text/plain": [
       "                                place  \\\n",
       "0                        Burnham Park   \n",
       "1         Mines View Observation Deck   \n",
       "2                  Baguio City Market   \n",
       "3                 Baguio Night Market   \n",
       "4                         Wright Park   \n",
       "..                                ...   \n",
       "78     Asin Road Woodcarver's Village   \n",
       "79                           19th Tee   \n",
       "80                    Sunset Terraces   \n",
       "81                      Pool of Pines   \n",
       "82  Maryhurst Chapel - Maryhurst Road   \n",
       "\n",
       "                                description  total_reviews  \n",
       "0        Urban parkland with a skating rink          23175  \n",
       "1      Popular destination for scenic views          10492  \n",
       "2              Market for food & housewares           8379  \n",
       "3       Extensive, late-night street market           6304  \n",
       "4   Leafy spot for walks & horseback riding           5742  \n",
       "..                                      ...            ...  \n",
       "78                                      NaN              2  \n",
       "79                                      NaN              2  \n",
       "80                                      NaN              1  \n",
       "81                                      NaN              1  \n",
       "82                                      NaN              1  \n",
       "\n",
       "[83 rows x 3 columns]"
      ]
     },
     "execution_count": 6,
     "metadata": {},
     "output_type": "execute_result"
    }
   ],
   "source": [
    "import pandas as pd \n",
    "\n",
    "tourist_destinations_baguio_df = pd.read_csv(r'../csv/tourist_destinations_baguio.csv')\n",
    "tourist_destinations_baguio_df.sort_values(['total_reviews'], ascending=[0]).reset_index(drop=True)"
   ]
  },
  {
   "cell_type": "code",
   "execution_count": 9,
   "metadata": {},
   "outputs": [
    {
     "data": {
      "text/plain": [
       "0                                          Burnham Park\n",
       "1                           Mines View Observation Deck\n",
       "2     Our Lady of the Atonement Cathedral (Baguio Ca...\n",
       "3                                           Wright Park\n",
       "4                                      Tam-awan Village\n",
       "5                               Baguio Botanical Garden\n",
       "6                                 Good Shepherd Convent\n",
       "7                  Heritage Hill and Nature Park Garden\n",
       "8                                    Baguio City Market\n",
       "9                                           Bell Church\n",
       "10                                        BenCab Museum\n",
       "11                           Our Lady of Lourdes Grotto\n",
       "12                                  Baguio Night Market\n",
       "13                     Pink Sisters' Convent and Chapel\n",
       "14                                        Baguio Museum\n",
       "15                                          Lion’s Head\n",
       "16                            Tree Top Adventure Baguio\n",
       "17                                 Igorot Stone Kingdom\n",
       "18      Strawberry Farm - Home of Giant Strawberry Cake\n",
       "19                        Mirador Heritage and Eco Park\n",
       "Name: place, dtype: object"
      ]
     },
     "execution_count": 9,
     "metadata": {},
     "output_type": "execute_result"
    }
   ],
   "source": [
    "place_list = tourist_destinations_baguio_df[\"place\"][:20]\n",
    "place_list"
   ]
  },
  {
   "cell_type": "code",
   "execution_count": 92,
   "metadata": {},
   "outputs": [
    {
     "ename": "NoSuchWindowException",
     "evalue": "Message: no such window: target window already closed\nfrom unknown error: web view not found\n  (Session info: chrome=108.0.5359.95)\nStacktrace:\nBacktrace:\n\t(No symbol) [0x00D5F243]\n\t(No symbol) [0x00CE7FD1]\n\t(No symbol) [0x00BDD04D]\n\t(No symbol) [0x00BC2D7A]\n\t(No symbol) [0x00C2BE7B]\n\t(No symbol) [0x00C3C196]\n\t(No symbol) [0x00C28386]\n\t(No symbol) [0x00C0163C]\n\t(No symbol) [0x00C0269D]\n\tGetHandleVerifier [0x00FF9A22+2655074]\n\tGetHandleVerifier [0x00FECA24+2601828]\n\tGetHandleVerifier [0x00E08C0A+619850]\n\tGetHandleVerifier [0x00E07830+614768]\n\t(No symbol) [0x00CF05FC]\n\t(No symbol) [0x00CF5968]\n\t(No symbol) [0x00CF5A55]\n\t(No symbol) [0x00D0051B]\n\tBaseThreadInitThunk [0x764C7BA9+25]\n\tRtlInitializeExceptionChain [0x7704BB9B+107]\n\tRtlClearBits [0x7704BB1F+191]\n",
     "output_type": "error",
     "traceback": [
      "\u001b[1;31m---------------------------------------------------------------------------\u001b[0m",
      "\u001b[1;31mNoSuchWindowException\u001b[0m                     Traceback (most recent call last)",
      "Cell \u001b[1;32mIn [92], line 29\u001b[0m\n\u001b[0;32m     27\u001b[0m \u001b[39mfor\u001b[39;00m x \u001b[39min\u001b[39;00m \u001b[39mrange\u001b[39m(\u001b[39m2318\u001b[39m):\n\u001b[0;32m     28\u001b[0m     scrollable_div \u001b[39m=\u001b[39m browser\u001b[39m.\u001b[39mfind_element(By\u001b[39m.\u001b[39mCLASS_NAME, \u001b[39m'\u001b[39m\u001b[39mreview-dialog-list\u001b[39m\u001b[39m'\u001b[39m)\n\u001b[1;32m---> 29\u001b[0m     browser\u001b[39m.\u001b[39;49mexecute_script(\u001b[39m'\u001b[39;49m\u001b[39marguments[0].scrollTop = arguments[0].scrollHeight\u001b[39;49m\u001b[39m'\u001b[39;49m, scrollable_div)\n\u001b[0;32m     30\u001b[0m     time\u001b[39m.\u001b[39msleep(\u001b[39m2\u001b[39m)\n\u001b[0;32m     31\u001b[0m     \u001b[39m# review_more_link_list = browser.find_elements(By.CLASS_NAME, 'review-more-link')\u001b[39;00m\n\u001b[0;32m     32\u001b[0m     \u001b[39m# for link in review_more_link_list:\u001b[39;00m\n\u001b[0;32m     33\u001b[0m     \u001b[39m#     link.click()\u001b[39;00m\n",
      "File \u001b[1;32md:\\anaconda3\\lib\\site-packages\\selenium\\webdriver\\remote\\webdriver.py:492\u001b[0m, in \u001b[0;36mWebDriver.execute_script\u001b[1;34m(self, script, *args)\u001b[0m\n\u001b[0;32m    489\u001b[0m converted_args \u001b[39m=\u001b[39m \u001b[39mlist\u001b[39m(args)\n\u001b[0;32m    490\u001b[0m command \u001b[39m=\u001b[39m Command\u001b[39m.\u001b[39mW3C_EXECUTE_SCRIPT\n\u001b[1;32m--> 492\u001b[0m \u001b[39mreturn\u001b[39;00m \u001b[39mself\u001b[39;49m\u001b[39m.\u001b[39;49mexecute(command, {\n\u001b[0;32m    493\u001b[0m     \u001b[39m'\u001b[39;49m\u001b[39mscript\u001b[39;49m\u001b[39m'\u001b[39;49m: script,\n\u001b[0;32m    494\u001b[0m     \u001b[39m'\u001b[39;49m\u001b[39margs\u001b[39;49m\u001b[39m'\u001b[39;49m: converted_args})[\u001b[39m'\u001b[39m\u001b[39mvalue\u001b[39m\u001b[39m'\u001b[39m]\n",
      "File \u001b[1;32md:\\anaconda3\\lib\\site-packages\\selenium\\webdriver\\remote\\webdriver.py:429\u001b[0m, in \u001b[0;36mWebDriver.execute\u001b[1;34m(self, driver_command, params)\u001b[0m\n\u001b[0;32m    427\u001b[0m response \u001b[39m=\u001b[39m \u001b[39mself\u001b[39m\u001b[39m.\u001b[39mcommand_executor\u001b[39m.\u001b[39mexecute(driver_command, params)\n\u001b[0;32m    428\u001b[0m \u001b[39mif\u001b[39;00m response:\n\u001b[1;32m--> 429\u001b[0m     \u001b[39mself\u001b[39;49m\u001b[39m.\u001b[39;49merror_handler\u001b[39m.\u001b[39;49mcheck_response(response)\n\u001b[0;32m    430\u001b[0m     response[\u001b[39m'\u001b[39m\u001b[39mvalue\u001b[39m\u001b[39m'\u001b[39m] \u001b[39m=\u001b[39m \u001b[39mself\u001b[39m\u001b[39m.\u001b[39m_unwrap_value(\n\u001b[0;32m    431\u001b[0m         response\u001b[39m.\u001b[39mget(\u001b[39m'\u001b[39m\u001b[39mvalue\u001b[39m\u001b[39m'\u001b[39m, \u001b[39mNone\u001b[39;00m))\n\u001b[0;32m    432\u001b[0m     \u001b[39mreturn\u001b[39;00m response\n",
      "File \u001b[1;32md:\\anaconda3\\lib\\site-packages\\selenium\\webdriver\\remote\\errorhandler.py:243\u001b[0m, in \u001b[0;36mErrorHandler.check_response\u001b[1;34m(self, response)\u001b[0m\n\u001b[0;32m    241\u001b[0m         alert_text \u001b[39m=\u001b[39m value[\u001b[39m'\u001b[39m\u001b[39malert\u001b[39m\u001b[39m'\u001b[39m]\u001b[39m.\u001b[39mget(\u001b[39m'\u001b[39m\u001b[39mtext\u001b[39m\u001b[39m'\u001b[39m)\n\u001b[0;32m    242\u001b[0m     \u001b[39mraise\u001b[39;00m exception_class(message, screen, stacktrace, alert_text)  \u001b[39m# type: ignore[call-arg]  # mypy is not smart enough here\u001b[39;00m\n\u001b[1;32m--> 243\u001b[0m \u001b[39mraise\u001b[39;00m exception_class(message, screen, stacktrace)\n",
      "\u001b[1;31mNoSuchWindowException\u001b[0m: Message: no such window: target window already closed\nfrom unknown error: web view not found\n  (Session info: chrome=108.0.5359.95)\nStacktrace:\nBacktrace:\n\t(No symbol) [0x00D5F243]\n\t(No symbol) [0x00CE7FD1]\n\t(No symbol) [0x00BDD04D]\n\t(No symbol) [0x00BC2D7A]\n\t(No symbol) [0x00C2BE7B]\n\t(No symbol) [0x00C3C196]\n\t(No symbol) [0x00C28386]\n\t(No symbol) [0x00C0163C]\n\t(No symbol) [0x00C0269D]\n\tGetHandleVerifier [0x00FF9A22+2655074]\n\tGetHandleVerifier [0x00FECA24+2601828]\n\tGetHandleVerifier [0x00E08C0A+619850]\n\tGetHandleVerifier [0x00E07830+614768]\n\t(No symbol) [0x00CF05FC]\n\t(No symbol) [0x00CF5968]\n\t(No symbol) [0x00CF5A55]\n\t(No symbol) [0x00D0051B]\n\tBaseThreadInitThunk [0x764C7BA9+25]\n\tRtlInitializeExceptionChain [0x7704BB9B+107]\n\tRtlClearBits [0x7704BB1F+191]\n"
     ]
    }
   ],
   "source": [
    "from bs4 import BeautifulSoup\n",
    "from selenium import webdriver\n",
    "from selenium.webdriver.chrome.service import Service\n",
    "from selenium.webdriver.common.by import By\n",
    "from selenium.webdriver.support.ui import WebDriverWait\n",
    "from selenium.webdriver.support import expected_conditions as EC\n",
    "import time\n",
    "\n",
    "s = Service(\"../tools/chromedriver.exe\")\n",
    "browser = webdriver.Chrome(service = s)\n",
    "\n",
    "html_source_list = []\n",
    "\n",
    "# for place in place_list:\n",
    "for place in [\"Burnham Park\"]:\n",
    "    URL_LINK = f\"https://www.google.com/search?q={place}%2C+Baguio+City&hl=en-PH&gl=ph&sxsrf=ALiCzsa6LBioHP276Sw-0F31TiI4SCrd7w%3A1670351806771&ei=vouPY5vXLob3wAOl1ZfgCA&ved=0ahUKEwibrt6w0eX7AhWGO3AKHaXqBYwQ4dUDCA8&uact=5&oq=Heritage+Hill+and+Nature+Park+Garden%2C+Baguio+City&gs_lcp=Cgxnd3Mtd2l6LXNlcnAQAzICCCY6CggAEEcQ1gQQsAM6BAgjECc6CgguEK8BEMcBEEM6BggAEBYQHjoFCAAQhgM6BQghEKABSgQIQRgASgQIRhgAUJ4FWK8iYOckaARwAXgAgAHUBIgB7hSSAQswLjguMi4wLjEuMZgBAKABAcgBCMABAQ&sclient=gws-wiz-serp\"\n",
    "    browser.get(URL_LINK)\n",
    "    time.sleep(2)\n",
    "\n",
    "    wait = WebDriverWait(browser, 10)\n",
    "\n",
    "    wait.until(EC.element_to_be_clickable((By.XPATH, '/html/body/div[7]/div/div[11]/div[2]/div/div/div[2]/div/div[1]/div[2]/div[2]/div/div/span[3]/span/a/span')))  \n",
    "    browser.find_element(By.XPATH, '/html/body/div[7]/div/div[11]/div[2]/div/div/div[2]/div/div[1]/div[2]/div[2]/div/div/span[3]/span/a/span').click()\n",
    "    time.sleep(2)\n",
    "\n",
    "\n",
    "    for x in range(2318):\n",
    "        scrollable_div = browser.find_element(By.CLASS_NAME, 'review-dialog-list')\n",
    "        browser.execute_script('arguments[0].scrollTop = arguments[0].scrollHeight', scrollable_div)\n",
    "        time.sleep(2)\n",
    "        # review_more_link_list = browser.find_elements(By.CLASS_NAME, 'review-more-link')\n",
    "        # for link in review_more_link_list:\n",
    "        #     link.click()\n",
    "\n",
    "    SOURCE_HTML = browser.page_source\n",
    "    soup = BeautifulSoup(SOURCE_HTML, \"html.parser\")\n",
    "    review_post = soup.find_all('span', {\"class\" : \"review-full-text\"})\n",
    "    html_source_list.append(review_post)\n",
    "    \n",
    "    # Input search string\n",
    "    #browser.find_element(By.XPATH, '/html/body/div[1]/div[3]/form/div[1]/div[1]/div[1]/div/div[2]/input').send_keys(place + static_end_search_string)\n",
    "    #time.sleep(2)\n",
    "\n",
    "    #browser.find_element(By.XPATH, '/html/body/div[1]/div[3]/form/div[1]/div[1]/div[1]/div/div[2]/input').click() # Find Google Search button\n",
    "    #time.sleep(2)\n",
    "\n",
    "\n",
    "browser.quit()"
   ]
  },
  {
   "cell_type": "code",
   "execution_count": 91,
   "metadata": {},
   "outputs": [
    {
     "name": "stdout",
     "output_type": "stream",
     "text": [
      "[[An excellent place for family and friends to visit. It has no entrance fees, and has a lake where you can ride a boat (P 150) and park grounds where you can ride small bikes (P 100). Not a place I would recommend at night as it gets quite dark here at some spots. But the morning is a superb experience you will definitely want to come back to., A lovely place to be on a nice day.We were pleasantly surprised and very pleased at how long a period of time that we had aboard our boat on the lake.You may hire bicycles(some carrying as many as three people)on the cycle track for a modest fee,and once again the period of time allowed is most generous indeed ~ so it is good value for money.Spend time here is amazing. I love the place., Definitely one of the best places to visit in Baguio. 💖 Burnham Park is a crowded tourist destination, but for good reason. The assortment of flowers that you will see in the park is truly breathtaking.Aside from sightseeing, you can also do boating, have your picture taken by a photographers' cooperative in tribal clothes, rent cars or bikes, and play at the amusement park., Bring something to protect you from the heat of the sun when going up in this place. family vehicles are not  allowed to go up to this point because the area where you will see a good view of the tower and the west Philippines sea is not wide enough  for vehicles. tricycle fare per trip is 50 pesos as of 2022 with a maximum of 3persons per trip., I/we enjoyed Burnham Park. We visited when it was busy and mellow, day and night. Felt safe. Numerous low level things to do for all ages. Fun to see nostalgic things to do (bumper cars, bike/pedal rentals) all sorts of food vendors, even massage people (but not sure where that happens).We had a picnic and someone offered (and we bought) blue tarp to sit on.Recommend and would return but wouldn’t call it a must see.Parking is hard to come by so walk or get dropped off is key., Burnham Park is considered to be one of the most famous parks in the country. It is located on Jose Abad Santos Drive, Baguio City 2600 Benguet Philippines. A park is a popular place for both locals and tourists. This place is often full-packed with people regardless if it is rainy or not. The most well-known activity in the park is “biking”. There are lots of bicycles for rent at a very decent price. It is an excellent activity for youngsters and adults., The place was also nice to see in the morning especially trying activities a family can enjoy like biking, riding a boat and having picnics. There are food area and lots of rest rooms. Parking is just hard during peak season. (Forgot to take pics since we just visit first in the evening for the night market 😊). The night market is beside the park., A great place for a trip with your family, friends and your partner!-There are available paddle boat operators that you can rent from 200-350 pesos.-Bikes can be rented from 75 pesos up to 150 pesos that is already good for 30 minutes.Location is strategic. There are several walking distance establishments where you can eat and jeepney vehicles are just nearby., Burnham Park is a good place to stroll both night and day. There are paid parking lots around the area you have to pick the area where you will be staying for a long time to prevent longer walks.We took the boating at night and it is more beautiful and silent than in the morning. We paid ₱150 for the boat plus additional ₱50 because we were tired to row the boat.We wanted to try roller skates but it was already closed at 7PM. The bump car was the other ride we were able to try it was ₱100/5 mins/head and with a weight limit., Things to do around Burnham Park are:- Have a boat ride in the lake- Rent a bike to ride around- Walk around the park- Eat local food- Learn a little about history of the place.NOTE: There are locals who would suddenly stand near you and sing a song and ask for donation. It is up to you if you would give them. There are also locals who will offer you a massage for Php100.00.At weekends, it can be crowded. If you want a much quiet time, go on weekdays.There is a night market that pops up beside the park. It's a whole street of people selling products such as souvenirs, shirts, jackets, and a separate area for food., Always iconic 🌻 Haven't been here for so long despite my distance, but it's due to some busy schedules and some usual distractions. Indeed, if you wanna ponder over things and genuinely cry while walking down the park like I did this early morning. Early as 4, 5 or 6AM is perfect if u wish for a wider space & less people. Meeting joggers too on the way pictures a healthy environment while the cold breezy wind dances.Tired now, benches are free, yet cold ha-ha!Burnham Park is 💞]]\n"
     ]
    }
   ],
   "source": [
    "test = BeautifulSoup(str(html_source_list))\n",
    "print(test.get_text())"
   ]
  },
  {
   "cell_type": "code",
   "execution_count": null,
   "metadata": {},
   "outputs": [],
   "source": []
  }
 ],
 "metadata": {
  "kernelspec": {
   "display_name": "mykernel",
   "language": "python",
   "name": "mykernel"
  },
  "language_info": {
   "codemirror_mode": {
    "name": "ipython",
    "version": 3
   },
   "file_extension": ".py",
   "mimetype": "text/x-python",
   "name": "python",
   "nbconvert_exporter": "python",
   "pygments_lexer": "ipython3",
   "version": "3.9.12"
  },
  "orig_nbformat": 4,
  "vscode": {
   "interpreter": {
    "hash": "675b13e958f0d0236d13cdfe08a1df3882cae564fa23a2e7e5eb1f2c6c632b02"
   }
  }
 },
 "nbformat": 4,
 "nbformat_minor": 2
}
